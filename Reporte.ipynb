{
 "cells": [
  {
   "cell_type": "markdown",
   "metadata": {},
   "source": [
    "# Reporte de calidad de datasets - Organización X"
   ]
  },
  {
   "cell_type": "markdown",
   "metadata": {},
   "source": [
    "Se importan las librerías a utilizar en el reporte\n"
   ]
  },
  {
   "cell_type": "code",
   "execution_count": 34,
   "metadata": {},
   "outputs": [],
   "source": [
    "import pandas as pd\n",
    "import numpy as np\n",
    "import matplotlib.pyplot as plt\n",
    "import seaborn as sns\n",
    "import warnings\n",
    "\n",
    "warnings.filterwarnings('ignore')\n",
    "sns.set(palette= 'dark')"
   ]
  },
  {
   "cell_type": "markdown",
   "metadata": {},
   "source": [
    "Se ingestan las tablas para su revisión"
   ]
  },
  {
   "cell_type": "code",
   "execution_count": 35,
   "metadata": {},
   "outputs": [],
   "source": [
    "cliente = pd.read_csv(r'C:\\Users\\Willy\\Desktop\\Ale\\HENRY\\P_I\\DS-PI-ProyectoIndividual\\Datasets\\Clientes.csv', encoding ='ansi',sep =';')\n",
    "compra = pd.read_csv(r'C:\\Users\\Willy\\Desktop\\Ale\\HENRY\\P_I\\DS-PI-ProyectoIndividual\\Datasets\\Compra.csv')\n",
    "gasto = pd.read_csv(r'C:\\Users\\Willy\\Desktop\\Ale\\HENRY\\P_I\\DS-PI-ProyectoIndividual\\Datasets\\Gasto.csv')\n",
    "localidad = pd.read_csv(r'C:\\Users\\Willy\\Desktop\\Ale\\HENRY\\P_I\\DS-PI-ProyectoIndividual\\Datasets\\Localidades.csv')\n",
    "proveedor = pd.read_csv(r'C:\\Users\\Willy\\Desktop\\Ale\\HENRY\\P_I\\DS-PI-ProyectoIndividual\\Datasets\\Proveedores.csv', encoding='latin1')\n",
    "sucursal = pd.read_csv(r'C:\\Users\\Willy\\Desktop\\Ale\\HENRY\\P_I\\DS-PI-ProyectoIndividual\\Datasets\\Sucursales.csv', sep=';')\n",
    "venta = pd.read_csv(r'C:\\Users\\Willy\\Desktop\\Ale\\HENRY\\P_I\\DS-PI-ProyectoIndividual\\Datasets\\Venta.csv')"
   ]
  },
  {
   "cell_type": "code",
   "execution_count": 36,
   "metadata": {},
   "outputs": [],
   "source": [
    "sucursal = pd.read_csv(r'C:\\Users\\Willy\\Desktop\\Ale\\HENRY\\P_I\\DS-PI-ProyectoIndividual\\Datasets\\Sucursales.csv', sep=';')"
   ]
  },
  {
   "cell_type": "markdown",
   "metadata": {},
   "source": [
    "# FACTS TABLES"
   ]
  },
  {
   "cell_type": "markdown",
   "metadata": {},
   "source": [
    "# Compra.csv"
   ]
  },
  {
   "cell_type": "markdown",
   "metadata": {},
   "source": [
    "#### Valores faltantes"
   ]
  },
  {
   "cell_type": "code",
   "execution_count": 37,
   "metadata": {},
   "outputs": [
    {
     "data": {
      "text/plain": [
       "IdCompra           0\n",
       "Fecha              0\n",
       "Fecha_Año          0\n",
       "Fecha_Mes          0\n",
       "Fecha_Periodo      0\n",
       "IdProducto         0\n",
       "Cantidad           0\n",
       "Precio           367\n",
       "IdProveedor        0\n",
       "dtype: int64"
      ]
     },
     "execution_count": 37,
     "metadata": {},
     "output_type": "execute_result"
    }
   ],
   "source": [
    "compra.isna().sum()"
   ]
  },
  {
   "cell_type": "code",
   "execution_count": 38,
   "metadata": {},
   "outputs": [
    {
     "name": "stdout",
     "output_type": "stream",
     "text": [
      "El porcentaje de valores faltantes es de:  3.1805 %\n"
     ]
    }
   ],
   "source": [
    "porcentaje_compra =round( 100*compra.Precio.isna().sum()/len(compra),4)\n",
    "print('El porcentaje de valores faltantes es de: ', porcentaje_compra,'%')"
   ]
  },
  {
   "cell_type": "markdown",
   "metadata": {},
   "source": [
    "#### Outliers"
   ]
  },
  {
   "cell_type": "code",
   "execution_count": 39,
   "metadata": {},
   "outputs": [
    {
     "data": {
      "image/png": "[encoded data removed]",
      "text/plain": [
       "<Figure size 432x288 with 1 Axes>"
      ]
     },
     "metadata": {},
     "output_type": "display_data"
    }
   ],
   "source": [
    "sns.scatterplot(x=compra.Cantidad, y=compra.Precio, palette='dark')\n",
    "plt.xlim(right=56)\n",
    "plt.title('Scatter de Precio/Cantidad')\n",
    "plt.show()"
   ]
  },
  {
   "cell_type": "markdown",
   "metadata": {},
   "source": [
    "Considerando outlier de la columna __PRECIO__ a cualquier valor que esté por debajo del percentil q=0.05 y por encima del perecentil q=0.95"
   ]
  },
  {
   "cell_type": "code",
   "execution_count": 40,
   "metadata": {},
   "outputs": [
    {
     "name": "stdout",
     "output_type": "stream",
     "text": [
      "El porcentaje de Outliers de Precio es de: 9.69 %\n"
     ]
    }
   ],
   "source": [
    "cantidad_outliers = compra[compra['Precio']>compra.Precio.quantile(q=0.95)].count()[0] + compra[compra['Precio']<compra.Precio.quantile(q=0.05)].count()[0]\n",
    "print('El porcentaje de Outliers de Precio es de:',round(100*cantidad_outliers/len(compra.Precio),2),'%')"
   ]
  },
  {
   "cell_type": "code",
   "execution_count": 41,
   "metadata": {},
   "outputs": [
    {
     "data": {
      "image/png": "[encoded data removed]",
      "text/plain": [
       "<Figure size 432x288 with 1 Axes>"
      ]
     },
     "metadata": {},
     "output_type": "display_data"
    }
   ],
   "source": [
    "Outliers = cantidad_outliers\n",
    "Faltantes = compra.isna().sum().sum()\n",
    "Correctos = len(compra) - Outliers - Faltantes\n",
    "x = ['Correctos %','Outliers %', 'Faltantes %']\n",
    "y = [100*round(Correctos/len(compra),3),100* round(Outliers/len(compra),3), 100*round(Faltantes/len(compra),3)]\n",
    "\n",
    "ax = sns.barplot(x=x, y=y, palette='magma')\n",
    "for i in ax.containers:\n",
    "    ax.bar_label(i,)\n",
    "plt.title('Compra.csv Porcentual', fontsize=20)\n",
    "plt.ylim(top=100)\n",
    "plt.show()"
   ]
  },
  {
   "cell_type": "markdown",
   "metadata": {},
   "source": [
    "# Gasto.csv"
   ]
  },
  {
   "cell_type": "code",
   "execution_count": 42,
   "metadata": {},
   "outputs": [
    {
     "data": {
      "text/plain": [
       "IdGasto        0\n",
       "IdSucursal     0\n",
       "IdTipoGasto    0\n",
       "Fecha          0\n",
       "Monto          0\n",
       "dtype: int64"
      ]
     },
     "execution_count": 42,
     "metadata": {},
     "output_type": "execute_result"
    }
   ],
   "source": [
    "gasto.isna().sum()"
   ]
  },
  {
   "cell_type": "code",
   "execution_count": 43,
   "metadata": {},
   "outputs": [
    {
     "data": {
      "image/png": "[encoded data removed]",
      "text/plain": [
       "<Figure size 648x288 with 1 Axes>"
      ]
     },
     "metadata": {},
     "output_type": "display_data"
    }
   ],
   "source": [
    "plt.subplots(figsize=(9,4))\n",
    "sns.boxplot(x=gasto.Monto, palette= 'rocket')\n",
    "plt.title('BOXPLOT de Gastos')\n",
    "plt.show()"
   ]
  },
  {
   "cell_type": "markdown",
   "metadata": {},
   "source": [
    "Se concluye que no hay outliers ni valores faltantes"
   ]
  },
  {
   "cell_type": "markdown",
   "metadata": {},
   "source": [
    "# Ventas.csv"
   ]
  },
  {
   "cell_type": "code",
   "execution_count": 44,
   "metadata": {},
   "outputs": [
    {
     "data": {
      "text/html": [
       "<div>\n",
       "<style scoped>\n",
       "    .dataframe tbody tr th:only-of-type {\n",
       "        vertical-align: middle;\n",
       "    }\n",
       "\n",
       "    .dataframe tbody tr th {\n",
       "        vertical-align: top;\n",
       "    }\n",
       "\n",
       "    .dataframe thead th {\n",
       "        text-align: right;\n",
       "    }\n",
       "</style>\n",
       "<table border=\"1\" class=\"dataframe\">\n",
       "  <thead>\n",
       "    <tr style=\"text-align: right;\">\n",
       "      <th></th>\n",
       "      <th>IdVenta</th>\n",
       "      <th>Fecha</th>\n",
       "      <th>Fecha_Entrega</th>\n",
       "      <th>IdCanal</th>\n",
       "      <th>IdCliente</th>\n",
       "      <th>IdSucursal</th>\n",
       "      <th>IdEmpleado</th>\n",
       "      <th>IdProducto</th>\n",
       "      <th>Precio</th>\n",
       "      <th>Cantidad</th>\n",
       "    </tr>\n",
       "  </thead>\n",
       "  <tbody>\n",
       "    <tr>\n",
       "      <th>0</th>\n",
       "      <td>1</td>\n",
       "      <td>2018-03-09</td>\n",
       "      <td>2018-03-17</td>\n",
       "      <td>3</td>\n",
       "      <td>969</td>\n",
       "      <td>13</td>\n",
       "      <td>1674</td>\n",
       "      <td>42817</td>\n",
       "      <td>813.12</td>\n",
       "      <td>2.0</td>\n",
       "    </tr>\n",
       "  </tbody>\n",
       "</table>\n",
       "</div>"
      ],
      "text/plain": [
       "   IdVenta       Fecha Fecha_Entrega  IdCanal  IdCliente  IdSucursal  \\\n",
       "0        1  2018-03-09    2018-03-17        3        969          13   \n",
       "\n",
       "   IdEmpleado  IdProducto  Precio  Cantidad  \n",
       "0        1674       42817  813.12       2.0  "
      ]
     },
     "execution_count": 44,
     "metadata": {},
     "output_type": "execute_result"
    }
   ],
   "source": [
    "venta.head(1)\n"
   ]
  },
  {
   "cell_type": "markdown",
   "metadata": {},
   "source": [
    "#### Valores faltantes"
   ]
  },
  {
   "cell_type": "code",
   "execution_count": 45,
   "metadata": {},
   "outputs": [
    {
     "data": {
      "text/plain": [
       "IdVenta            0\n",
       "Fecha              0\n",
       "Fecha_Entrega      0\n",
       "IdCanal            0\n",
       "IdCliente          0\n",
       "IdSucursal         0\n",
       "IdEmpleado         0\n",
       "IdProducto         0\n",
       "Precio           924\n",
       "Cantidad         892\n",
       "dtype: int64"
      ]
     },
     "execution_count": 45,
     "metadata": {},
     "output_type": "execute_result"
    }
   ],
   "source": [
    "venta.isna().sum()"
   ]
  },
  {
   "cell_type": "code",
   "execution_count": 46,
   "metadata": {},
   "outputs": [
    {
     "name": "stdout",
     "output_type": "stream",
     "text": [
      "El porcentaje de valores faltantes es de:  1.9809 %\n"
     ]
    }
   ],
   "source": [
    "porcentaje_venta =round( 100*venta.Precio.isna().sum()/len(venta.Precio),4)\n",
    "print('El porcentaje de valores faltantes es de: ', porcentaje_venta,'%')"
   ]
  },
  {
   "cell_type": "markdown",
   "metadata": {},
   "source": [
    "#### Outliers"
   ]
  },
  {
   "cell_type": "code",
   "execution_count": 47,
   "metadata": {},
   "outputs": [
    {
     "data": {
      "image/png": "[encoded data removed]",
      "text/plain": [
       "<Figure size 720x360 with 1 Axes>"
      ]
     },
     "metadata": {},
     "output_type": "display_data"
    }
   ],
   "source": [
    "plt.subplots(figsize=(10,5))\n",
    "sns.scatterplot(x=venta.Cantidad, y=venta.Precio)\n",
    "plt.title('Detección de Outliers Venta.csv', fontsize=18)\n",
    "plt.show()"
   ]
  },
  {
   "cell_type": "markdown",
   "metadata": {},
   "source": [
    "##### Outliers venta_Cantidad\n",
    "\n",
    "Dada la naturaleza de la variable, producto del comportamiento humano y su aleatoriedad, se consideran posibles los valores de compra_cantidad de 10, 20 y hasta 30 unidades. A las compras con cantidades superiores a estos valores se las considerará errores de carga y se las desestimara por ser poco frecuentes"
   ]
  },
  {
   "cell_type": "code",
   "execution_count": 48,
   "metadata": {},
   "outputs": [
    {
     "name": "stdout",
     "output_type": "stream",
     "text": [
      "El porcentaje de Outliers de Cantidad es de: 0.01 %\n"
     ]
    }
   ],
   "source": [
    "outlier_cantventa = venta[venta.Cantidad>30].count()[0]\n",
    "print('El porcentaje de Outliers de Cantidad es de:',round(100*outlier_cantventa/len(venta.Cantidad),2),'%')"
   ]
  },
  {
   "cell_type": "markdown",
   "metadata": {},
   "source": [
    "##### Outlier venta_Precio\n",
    "\n",
    "Considerando la variabilidad inherente a los precios de los productos, se considera outlier a los precios superiores al quantil=0.95"
   ]
  },
  {
   "cell_type": "code",
   "execution_count": 49,
   "metadata": {},
   "outputs": [
    {
     "name": "stdout",
     "output_type": "stream",
     "text": [
      "El porcentaje de Outliers de Precio es de: 9.46 %\n"
     ]
    }
   ],
   "source": [
    "outlier_precioventa = venta[(venta.Precio>venta.Precio.quantile(q=0.95))|(venta.Precio<venta.Precio.quantile(q=0.05))].count()[0]\n",
    "print('El porcentaje de Outliers de Precio es de:',round(100*outlier_precioventa/len(venta.Precio),2),'%')"
   ]
  },
  {
   "cell_type": "code",
   "execution_count": 50,
   "metadata": {},
   "outputs": [
    {
     "data": {
      "image/png": "[encoded data removed]",
      "text/plain": [
       "<Figure size 432x288 with 1 Axes>"
      ]
     },
     "metadata": {},
     "output_type": "display_data"
    }
   ],
   "source": [
    "Outliers = outlier_cantventa + outlier_precioventa\n",
    "Faltantes = venta.isna().sum().sum()\n",
    "Correctos = len(venta) - Outliers - Faltantes\n",
    "x = ['Correctos %','Outliers %', 'Faltantes %']\n",
    "y = [100*round(Correctos/len(venta),3),100* round(Outliers/len(venta),3), 100*round(Faltantes/len(venta),3)]\n",
    "\n",
    "ax = sns.barplot(x=x, y=y, palette='magma')\n",
    "for i in ax.containers:\n",
    "    ax.bar_label(i,)\n",
    "plt.title('Venta.csv Porcentual', fontsize=20)\n",
    "plt.ylim(top=100)\n",
    "plt.show()"
   ]
  },
  {
   "cell_type": "markdown",
   "metadata": {},
   "source": [
    "# DIMENTION TABLES"
   ]
  },
  {
   "cell_type": "markdown",
   "metadata": {},
   "source": [
    "## Clientes.csv"
   ]
  },
  {
   "cell_type": "markdown",
   "metadata": {},
   "source": [
    "Se visualiza la primer entrada de la tabla"
   ]
  },
  {
   "cell_type": "code",
   "execution_count": 51,
   "metadata": {},
   "outputs": [
    {
     "data": {
      "text/html": [
       "<div>\n",
       "<style scoped>\n",
       "    .dataframe tbody tr th:only-of-type {\n",
       "        vertical-align: middle;\n",
       "    }\n",
       "\n",
       "    .dataframe tbody tr th {\n",
       "        vertical-align: top;\n",
       "    }\n",
       "\n",
       "    .dataframe thead th {\n",
       "        text-align: right;\n",
       "    }\n",
       "</style>\n",
       "<table border=\"1\" class=\"dataframe\">\n",
       "  <thead>\n",
       "    <tr style=\"text-align: right;\">\n",
       "      <th></th>\n",
       "      <th>ID</th>\n",
       "      <th>Provincia</th>\n",
       "      <th>Nombre_y_Apellido</th>\n",
       "      <th>Domicilio</th>\n",
       "      <th>Telefono</th>\n",
       "      <th>Edad</th>\n",
       "      <th>Localidad</th>\n",
       "      <th>X</th>\n",
       "      <th>Y</th>\n",
       "      <th>col10</th>\n",
       "    </tr>\n",
       "  </thead>\n",
       "  <tbody>\n",
       "    <tr>\n",
       "      <th>0</th>\n",
       "      <td>1</td>\n",
       "      <td>Buenos Aires</td>\n",
       "      <td>HEBER JONI SANTANA</td>\n",
       "      <td>LAS HERAS Y BAT. 24 DE FEBRERO 4150  RINCON DE...</td>\n",
       "      <td>42-5161</td>\n",
       "      <td>58</td>\n",
       "      <td>LOMA VERDE</td>\n",
       "      <td>-58,81850307</td>\n",
       "      <td>-34,30997088</td>\n",
       "      <td>NaN</td>\n",
       "    </tr>\n",
       "  </tbody>\n",
       "</table>\n",
       "</div>"
      ],
      "text/plain": [
       "   ID     Provincia   Nombre_y_Apellido  \\\n",
       "0   1  Buenos Aires  HEBER JONI SANTANA   \n",
       "\n",
       "                                           Domicilio Telefono  Edad  \\\n",
       "0  LAS HERAS Y BAT. 24 DE FEBRERO 4150  RINCON DE...  42-5161    58   \n",
       "\n",
       "    Localidad             X             Y  col10  \n",
       "0  LOMA VERDE  -58,81850307  -34,30997088    NaN  "
      ]
     },
     "execution_count": 51,
     "metadata": {},
     "output_type": "execute_result"
    }
   ],
   "source": [
    "cliente.head(1)"
   ]
  },
  {
   "cell_type": "markdown",
   "metadata": {},
   "source": [
    "Se elimina la columna __col10__ por no poseer ningun valor"
   ]
  },
  {
   "cell_type": "code",
   "execution_count": 52,
   "metadata": {},
   "outputs": [],
   "source": [
    "cliente.drop('col10', axis=1, inplace=True)"
   ]
  },
  {
   "cell_type": "markdown",
   "metadata": {},
   "source": [
    "#### Valores faltantes"
   ]
  },
  {
   "cell_type": "code",
   "execution_count": 53,
   "metadata": {},
   "outputs": [],
   "source": [
    "Faltantes_cliente = cliente.isna().sum().sum()\n"
   ]
  },
  {
   "cell_type": "markdown",
   "metadata": {},
   "source": [
    "#### Duplicados"
   ]
  },
  {
   "cell_type": "code",
   "execution_count": 54,
   "metadata": {},
   "outputs": [
    {
     "data": {
      "text/html": [
       "<div>\n",
       "<style scoped>\n",
       "    .dataframe tbody tr th:only-of-type {\n",
       "        vertical-align: middle;\n",
       "    }\n",
       "\n",
       "    .dataframe tbody tr th {\n",
       "        vertical-align: top;\n",
       "    }\n",
       "\n",
       "    .dataframe thead th {\n",
       "        text-align: right;\n",
       "    }\n",
       "</style>\n",
       "<table border=\"1\" class=\"dataframe\">\n",
       "  <thead>\n",
       "    <tr style=\"text-align: right;\">\n",
       "      <th></th>\n",
       "      <th>ID</th>\n",
       "      <th>Provincia</th>\n",
       "      <th>Nombre_y_Apellido</th>\n",
       "      <th>Domicilio</th>\n",
       "      <th>Telefono</th>\n",
       "      <th>Edad</th>\n",
       "      <th>Localidad</th>\n",
       "      <th>X</th>\n",
       "      <th>Y</th>\n",
       "    </tr>\n",
       "  </thead>\n",
       "  <tbody>\n",
       "  </tbody>\n",
       "</table>\n",
       "</div>"
      ],
      "text/plain": [
       "Empty DataFrame\n",
       "Columns: [ID, Provincia, Nombre_y_Apellido, Domicilio, Telefono, Edad, Localidad, X, Y]\n",
       "Index: []"
      ]
     },
     "execution_count": 54,
     "metadata": {},
     "output_type": "execute_result"
    }
   ],
   "source": [
    "cliente[cliente.ID.duplicated()]"
   ]
  },
  {
   "cell_type": "markdown",
   "metadata": {},
   "source": [
    "Se observa que no posee ID's duplicados"
   ]
  },
  {
   "cell_type": "markdown",
   "metadata": {},
   "source": [
    "#### Errores en Longitudes y Latitudes"
   ]
  },
  {
   "cell_type": "markdown",
   "metadata": {},
   "source": [
    "Se sustituyen ',' por '.' para poder transformarlos a tipo float"
   ]
  },
  {
   "cell_type": "code",
   "execution_count": 55,
   "metadata": {},
   "outputs": [],
   "source": [
    "cliente['Latitud'] = cliente['Y'].str.replace(\",\",\".\").astype(\"float\")\n",
    "cliente['Longitud'] = cliente['X'].str.replace(\",\",\".\").astype(\"float\")\n",
    "cliente.drop(columns='Y', inplace=True)\n",
    "cliente.drop(columns='X', inplace=True)"
   ]
  },
  {
   "cell_type": "markdown",
   "metadata": {},
   "source": [
    "Se calcula la cantidad de registros cargados con longitudes y latitudes positivas"
   ]
  },
  {
   "cell_type": "code",
   "execution_count": 56,
   "metadata": {},
   "outputs": [],
   "source": [
    "Errores = cliente[(cliente.Latitud >0)|(cliente.Longitud>0)].count()[0]"
   ]
  },
  {
   "cell_type": "markdown",
   "metadata": {},
   "source": [
    "Se plotean los correctos, errores y faltantes"
   ]
  },
  {
   "cell_type": "code",
   "execution_count": 57,
   "metadata": {},
   "outputs": [
    {
     "data": {
      "image/png": "[encoded data removed]",
      "text/plain": [
       "<Figure size 432x288 with 1 Axes>"
      ]
     },
     "metadata": {},
     "output_type": "display_data"
    }
   ],
   "source": [
    "Correctos = len(cliente) - Errores - Faltantes_cliente\n",
    "x = ['Correctos %','Errores %', 'Faltantes %']\n",
    "y = [100*round(Correctos/len(cliente),3), 100*round(Errores/len(cliente),3), 100*round(Faltantes_cliente/len(venta),3)]\n",
    "\n",
    "ax = sns.barplot(x=x, y=y, palette='magma')\n",
    "for i in ax.containers:\n",
    "    ax.bar_label(i,)\n",
    "plt.title('Cliente.csv', fontsize=20)\n",
    "plt.ylim(top=100)\n",
    "plt.show()"
   ]
  },
  {
   "cell_type": "markdown",
   "metadata": {},
   "source": [
    "# Sucursal.csv"
   ]
  },
  {
   "cell_type": "code",
   "execution_count": 58,
   "metadata": {},
   "outputs": [
    {
     "data": {
      "text/html": [
       "<div>\n",
       "<style scoped>\n",
       "    .dataframe tbody tr th:only-of-type {\n",
       "        vertical-align: middle;\n",
       "    }\n",
       "\n",
       "    .dataframe tbody tr th {\n",
       "        vertical-align: top;\n",
       "    }\n",
       "\n",
       "    .dataframe thead th {\n",
       "        text-align: right;\n",
       "    }\n",
       "</style>\n",
       "<table border=\"1\" class=\"dataframe\">\n",
       "  <thead>\n",
       "    <tr style=\"text-align: right;\">\n",
       "      <th></th>\n",
       "      <th>ID</th>\n",
       "      <th>Sucursal</th>\n",
       "      <th>Direccion</th>\n",
       "      <th>Localidad</th>\n",
       "      <th>Provincia</th>\n",
       "      <th>Latitud</th>\n",
       "      <th>Longitud</th>\n",
       "    </tr>\n",
       "  </thead>\n",
       "  <tbody>\n",
       "    <tr>\n",
       "      <th>0</th>\n",
       "      <td>1</td>\n",
       "      <td>Cabildo</td>\n",
       "      <td>Av. Cabildo 1342</td>\n",
       "      <td>Ciudad de Buenos Aires</td>\n",
       "      <td>Ciudad de Buenos Aires</td>\n",
       "      <td>-34,5678060</td>\n",
       "      <td>-58,4495720</td>\n",
       "    </tr>\n",
       "  </tbody>\n",
       "</table>\n",
       "</div>"
      ],
      "text/plain": [
       "   ID Sucursal         Direccion               Localidad  \\\n",
       "0   1  Cabildo  Av. Cabildo 1342  Ciudad de Buenos Aires   \n",
       "\n",
       "                Provincia      Latitud     Longitud  \n",
       "0  Ciudad de Buenos Aires  -34,5678060  -58,4495720  "
      ]
     },
     "execution_count": 58,
     "metadata": {},
     "output_type": "execute_result"
    }
   ],
   "source": [
    "sucursal.head(1)"
   ]
  },
  {
   "cell_type": "markdown",
   "metadata": {},
   "source": [
    "#### Valores faltantes"
   ]
  },
  {
   "cell_type": "code",
   "execution_count": 59,
   "metadata": {},
   "outputs": [
    {
     "data": {
      "text/plain": [
       "ID           0\n",
       "Sucursal     0\n",
       "Direccion    0\n",
       "Localidad    0\n",
       "Provincia    0\n",
       "Latitud      0\n",
       "Longitud     0\n",
       "dtype: int64"
      ]
     },
     "execution_count": 59,
     "metadata": {},
     "output_type": "execute_result"
    }
   ],
   "source": [
    "sucursal.isna().sum()"
   ]
  },
  {
   "cell_type": "markdown",
   "metadata": {},
   "source": [
    "#### Chequeo de duplicados"
   ]
  },
  {
   "cell_type": "code",
   "execution_count": 60,
   "metadata": {},
   "outputs": [
    {
     "data": {
      "text/html": [
       "<div>\n",
       "<style scoped>\n",
       "    .dataframe tbody tr th:only-of-type {\n",
       "        vertical-align: middle;\n",
       "    }\n",
       "\n",
       "    .dataframe tbody tr th {\n",
       "        vertical-align: top;\n",
       "    }\n",
       "\n",
       "    .dataframe thead th {\n",
       "        text-align: right;\n",
       "    }\n",
       "</style>\n",
       "<table border=\"1\" class=\"dataframe\">\n",
       "  <thead>\n",
       "    <tr style=\"text-align: right;\">\n",
       "      <th></th>\n",
       "      <th>ID</th>\n",
       "      <th>Sucursal</th>\n",
       "      <th>Direccion</th>\n",
       "      <th>Localidad</th>\n",
       "      <th>Provincia</th>\n",
       "      <th>Latitud</th>\n",
       "      <th>Longitud</th>\n",
       "    </tr>\n",
       "  </thead>\n",
       "  <tbody>\n",
       "  </tbody>\n",
       "</table>\n",
       "</div>"
      ],
      "text/plain": [
       "Empty DataFrame\n",
       "Columns: [ID, Sucursal, Direccion, Localidad, Provincia, Latitud, Longitud]\n",
       "Index: []"
      ]
     },
     "execution_count": 60,
     "metadata": {},
     "output_type": "execute_result"
    }
   ],
   "source": [
    "sucursal[sucursal.ID.duplicated()]"
   ]
  },
  {
   "cell_type": "markdown",
   "metadata": {},
   "source": [
    "#### Errores de Longitud y Latitud"
   ]
  },
  {
   "cell_type": "code",
   "execution_count": 61,
   "metadata": {},
   "outputs": [],
   "source": [
    "sucursal['Latitud'] = sucursal['Latitud'].str.replace(\",\",\".\").astype(\"float\")\n",
    "sucursal['Longitud'] = sucursal['Longitud'].str.replace(\",\",\".\").astype(\"float\")"
   ]
  },
  {
   "cell_type": "code",
   "execution_count": 62,
   "metadata": {},
   "outputs": [
    {
     "data": {
      "text/plain": [
       "0"
      ]
     },
     "execution_count": 62,
     "metadata": {},
     "output_type": "execute_result"
    }
   ],
   "source": [
    "Errores_sucursal = sucursal[(sucursal.Latitud >0)|(sucursal.Longitud>0)].count()[0]\n",
    "Errores_sucursal"
   ]
  },
  {
   "cell_type": "markdown",
   "metadata": {},
   "source": [
    "Se concluye que no hay errores ni faltantes en la tabla Sucursal.csv"
   ]
  },
  {
   "cell_type": "markdown",
   "metadata": {},
   "source": [
    "# Proveedores.csv"
   ]
  },
  {
   "cell_type": "code",
   "execution_count": 63,
   "metadata": {},
   "outputs": [
    {
     "data": {
      "text/plain": [
       "ï»¿IDProveedor    0\n",
       "Nombre            2\n",
       "Address           0\n",
       "City              0\n",
       "State             0\n",
       "Country           0\n",
       "departamen        0\n",
       "dtype: int64"
      ]
     },
     "execution_count": 63,
     "metadata": {},
     "output_type": "execute_result"
    }
   ],
   "source": [
    "proveedor.isna().sum()"
   ]
  },
  {
   "cell_type": "markdown",
   "metadata": {},
   "source": [
    "#### Valores faltantes"
   ]
  },
  {
   "cell_type": "code",
   "execution_count": 64,
   "metadata": {},
   "outputs": [
    {
     "data": {
      "text/plain": [
       "2"
      ]
     },
     "execution_count": 64,
     "metadata": {},
     "output_type": "execute_result"
    }
   ],
   "source": [
    "Faltantes_prov = proveedor.isna().sum().sum()\n",
    "Faltantes_prov"
   ]
  },
  {
   "cell_type": "code",
   "execution_count": 65,
   "metadata": {},
   "outputs": [
    {
     "data": {
      "image/png": "[encoded data removed]",
      "text/plain": [
       "<Figure size 432x288 with 1 Axes>"
      ]
     },
     "metadata": {},
     "output_type": "display_data"
    }
   ],
   "source": [
    "Correctos = len(proveedor) - Faltantes_prov\n",
    "\n",
    "y = [100*round(Correctos/len(proveedor),3), 100*round(Faltantes_prov/len(proveedor),3)]\n",
    "x = ['Correctos %', 'Faltantes %']\n",
    "ax = sns.barplot(x=x, y=y, palette='dark')\n",
    "for i in ax.containers:\n",
    "    ax.bar_label(i,)\n",
    "plt.title('Proveedor.csv', fontsize=20)\n",
    "plt.ylim(top=100)\n",
    "plt.show()"
   ]
  },
  {
   "cell_type": "markdown",
   "metadata": {},
   "source": [
    "# KPIS"
   ]
  },
  {
   "cell_type": "markdown",
   "metadata": {},
   "source": [
    "### Valores historicos de __venta__ y __compra__"
   ]
  },
  {
   "cell_type": "code",
   "execution_count": 73,
   "metadata": {},
   "outputs": [
    {
     "data": {
      "image/png": "[encoded data removed]",
      "text/plain": [
       "<Figure size 1008x576 with 1 Axes>"
      ]
     },
     "metadata": {},
     "output_type": "display_data"
    }
   ],
   "source": [
    "#Se eliminan outliers para visualizacion\n",
    "venta = venta[(venta.Precio<venta.Precio.quantile(q=0.95))&(venta.Precio>venta.Precio.quantile(q=0.05))]\n",
    "venta = venta[venta.Cantidad<30]\n",
    "\n",
    "venta_calidad = venta\n",
    "venta_calidad['Fecha']= pd.to_datetime(venta_calidad['Fecha'], infer_datetime_format=True)\n",
    "venta_calidad['Total'] = venta_calidad['Precio']*venta_calidad['Cantidad']\n",
    "\n",
    "plt.subplots(figsize=(14,8))\n",
    "sns.lineplot(data=venta_calidad.groupby(venta_calidad.Fecha.dt.year).sum(), x='Fecha',y='Total')\n",
    "plt.title('Evolución de Ventas', fontsize=20)\n",
    "plt.ylabel('Ventas totales')\n",
    "plt.show()"
   ]
  },
  {
   "cell_type": "markdown",
   "metadata": {},
   "source": [
    "Se eliminan outliers y faltantes de compra"
   ]
  },
  {
   "cell_type": "code",
   "execution_count": 74,
   "metadata": {},
   "outputs": [
    {
     "data": {
      "image/png": "[encoded data removed]",
      "text/plain": [
       "<Figure size 1008x576 with 1 Axes>"
      ]
     },
     "metadata": {},
     "output_type": "display_data"
    }
   ],
   "source": [
    "compra.dropna(inplace=True)\n",
    "compra = compra[compra.Cantidad<30]\n",
    "compra = compra[(compra.Precio>compra.Precio.quantile(0.1))&(compra.Precio<compra.Precio.quantile(0.9))]\n",
    "\n",
    "compra['Fecha'] = pd.to_datetime(compra['Fecha'], infer_datetime_format=True)\n",
    "compra['Total']= compra['Precio']*compra['Cantidad']\n",
    "\n",
    "#Ploteo\n",
    "plt.subplots(figsize=(14,8))\n",
    "sns.lineplot(data= compra.groupby(compra.Fecha.dt.year).sum(), x='Fecha', y=compra.groupby(compra.Fecha.dt.year).sum()['Total'])\n",
    "plt.title('Evolucion de Compras', fontsize=20)\n",
    "plt.show()"
   ]
  },
  {
   "cell_type": "markdown",
   "metadata": {},
   "source": [
    "Se normalizan las localidades y provincias de la tabla __Sucursal__"
   ]
  },
  {
   "cell_type": "code",
   "execution_count": 69,
   "metadata": {},
   "outputs": [],
   "source": [
    "#Normalizacion de localidad\n",
    "sucursal['Localidad'][sucursal['Localidad'].str.contains('Ciu')]=\"Buenos Aires\"\n",
    "sucursal['Localidad'][sucursal['Localidad'].str.contains('Cap')]=\"Buenos Aires\"\n",
    "sucursal['Localidad'][sucursal['Localidad'].str.contains('Cdad')]=\"Buenos Aires\"\n",
    "sucursal['Localidad'][sucursal['Localidad'].str.contains('CAB')]=\"Buenos Aires\"\n",
    "sucursal['Localidad'][sucursal['Localidad'].str.contains('oba')]=\"Cordoba\"\n",
    "sucursal['Localidad'][sucursal['Localidad'].str.contains('ucum')]=\"Tucuman\"\n",
    "# Normalizacion de Provincia\n",
    "sucursal['Provincia'][sucursal['Provincia'].str.contains('CABA')]=\"Buenos Aires\"\n",
    "sucursal['Provincia'][sucursal['Provincia'].str.contains('Aires')]=\"Buenos Aires\"\n",
    "sucursal['Provincia'][sucursal['Provincia'].str.contains('As')]=\"Buenos Aires\"\n",
    "sucursal['Provincia'][sucursal['Provincia'].str.contains('AS')]=\"Buenos Aires\"\n",
    "sucursal['Provincia'][sucursal['Provincia'].str.contains('oba')]=\"Cordoba\"\n"
   ]
  },
  {
   "cell_type": "code",
   "execution_count": 70,
   "metadata": {},
   "outputs": [
    {
     "name": "stdout",
     "output_type": "stream",
     "text": [
      "Provincias post arreglo: ['Buenos Aires' 'Santa Fe' 'Cordoba' 'Tucumán' 'Mendoza' 'Río Negro'] \n",
      " Localidades post arreglo:  ['Buenos Aires' 'Vicente López' 'Martínez' 'Caseros' 'Moron' 'Castelar'\n",
      " 'San Justo' 'Lanus' 'Avellaneda' 'Quilmes' 'La Plata' 'Mar del Plata'\n",
      " 'Rosario' 'Cordoba' 'Tucuman' 'Mendoza' 'San Carlos de Bariloche']\n"
     ]
    }
   ],
   "source": [
    "print('Provincias post arreglo:',sucursal.Provincia.unique(),'\\n','Localidades post arreglo: ', sucursal.Localidad.unique())"
   ]
  },
  {
   "cell_type": "markdown",
   "metadata": {},
   "source": [
    "Se une con la tabla normalizada de ventas"
   ]
  },
  {
   "cell_type": "code",
   "execution_count": 71,
   "metadata": {},
   "outputs": [],
   "source": [
    "sucursal.rename(columns={'ID':'IdSucursal'}, inplace=True)\n",
    "venta_sucursal = pd.merge(venta_calidad, sucursal, how='left', on='IdSucursal' )\n",
    "venta_sucursal['Total']= venta_sucursal['Precio']*venta_sucursal['Cantidad']"
   ]
  },
  {
   "cell_type": "code",
   "execution_count": 72,
   "metadata": {},
   "outputs": [
    {
     "data": {
      "image/png": "[encoded data removed]",
      "text/plain": [
       "<Figure size 1008x576 with 1 Axes>"
      ]
     },
     "metadata": {},
     "output_type": "display_data"
    }
   ],
   "source": [
    "plt.subplots(figsize=(14,8))\n",
    "\n",
    "df = venta_sucursal.groupby('Provincia').sum()\n",
    "#df = venta_sucursal.groupby([venta_sucursal.Fecha.dt.year,'Provincia']).sum()\n",
    "ax =sns.barplot(y=df.Total , x=df.index, palette='dark')\n",
    "for i in ax.containers:\n",
    "    ax.bar_label(i,)\n",
    "plt.title('Ventas totales por Provincia en millones', fontsize=20)\n",
    "plt.show()"
   ]
  },
  {
   "cell_type": "markdown",
   "metadata": {},
   "source": [
    "Se sugiere abrir una nueva sucursal en la provincia de  Buenos Aires, y como KPI se podría utilizar la evolución histórica de las ventas por provincia"
   ]
  }
 ],
 "metadata": {
  "kernelspec": {
   "display_name": "Python 3.9.13 64-bit (windows store)",
   "language": "python",
   "name": "python3"
  },
  "language_info": {
   "codemirror_mode": {
    "name": "ipython",
    "version": 3
   },
   "file_extension": ".py",
   "mimetype": "text/x-python",
   "name": "python",
   "nbconvert_exporter": "python",
   "pygments_lexer": "ipython3",
   "version": "3.9.13"
  },
  "orig_nbformat": 4,
  "vscode": {
   "interpreter": {
    "hash": "14940a60bfa17567659eead7fce841ac74dcd360a376091e8f37c7395626e438"
   }
  }
 },
 "nbformat": 4,
 "nbformat_minor": 2
}
